{
 "cells": [
  {
   "cell_type": "code",
   "execution_count": 1,
   "metadata": {
    "_cell_guid": "b1076dfc-b9ad-4769-8c92-a6c4dae69d19",
    "_uuid": "8f2839f25d086af736a60e9eeb907d3b93b6e0e5",
    "execution": {
     "iopub.execute_input": "2021-11-18T09:39:40.747921Z",
     "iopub.status.busy": "2021-11-18T09:39:40.747623Z",
     "iopub.status.idle": "2021-11-18T09:39:41.784783Z",
     "shell.execute_reply": "2021-11-18T09:39:41.783787Z",
     "shell.execute_reply.started": "2021-11-18T09:39:40.747892Z"
    }
   },
   "outputs": [],
   "source": [
    "import numpy as np \n",
    "import pandas as pd \n",
    "import matplotlib.pyplot as plt\n",
    "import seaborn as sns\n",
    "from sklearn.metrics import classification_report, plot_roc_curve \n",
    "from sklearn.model_selection import GridSearchCV\n",
    "from sklearn.utils import resample\n",
    "from sklearn.preprocessing import LabelEncoder\n",
    "from sklearn.preprocessing import MinMaxScaler\n",
    "from sklearn.feature_selection import SelectKBest"
   ]
  },
  {
   "cell_type": "code",
   "execution_count": null,
   "metadata": {
    "execution": {
     "iopub.execute_input": "2021-11-18T09:39:48.245576Z",
     "iopub.status.busy": "2021-11-18T09:39:48.245022Z",
     "iopub.status.idle": "2021-11-18T09:39:49.242281Z",
     "shell.execute_reply": "2021-11-18T09:39:49.241372Z",
     "shell.execute_reply.started": "2021-11-18T09:39:48.245541Z"
    }
   },
   "outputs": [],
   "source": [
    "## all preprocessing in one go\n",
    "df = pd.read_csv(\"../input/weatherdata/weatherAUS.csv\")\n",
    "## replace yes and no with 1 and 0\n",
    "df[\"RainTomorrow\"].replace({\"No\":0,\"Yes\":1},inplace=True)\n",
    "df[\"RainToday\"].replace({\"No\":0,\"Yes\":1},inplace=True)\n",
    "\n",
    "## handle imabalance in classes by over/undersampling\n",
    "labels = [\"no\",\"yes\"]\n",
    "vals = [len(df[df[\"RainTomorrow\"]==0]), len(df[df[\"RainTomorrow\"]==1])]\n",
    "plt.pie(vals,labels=labels,autopct=\"%.2f\")\n",
    "plt.title(\"Comparing yes/no labels in dataset\")\n",
    "plt.axis(\"equal\")\n",
    "plt.show()\n",
    "\n",
    "no = df[df[\"RainTomorrow\"]==0]\n",
    "yes = df[df[\"RainTomorrow\"]==1]\n",
    "\n",
    "## resample with replacement (undersampling)\n",
    "yes_oversampled = resample(yes,replace=True,n_samples=len(no))\n",
    "adjusted_df = pd.concat([yes_oversampled,no])\n",
    "\n",
    "def replace_with_mode(df,col):\n",
    "    \n",
    "    df[col] = df[col].replace(np.nan,df[col].mode()[0])\n",
    "    \n",
    "## replacing NaN values with mode value (since we have categorical values also)\n",
    "oversampled = adjusted_df.sample(frac=1)\n",
    "replace_with_mode(oversampled,\"Date\")\n",
    "replace_with_mode(oversampled,\"Location\")\n",
    "replace_with_mode(oversampled,\"WindGustDir\")\n",
    "replace_with_mode(oversampled,\"WindDir3pm\")\n",
    "replace_with_mode(oversampled,\"WindDir9am\")\n",
    "\n",
    "## numerical to categorical using label encoder\n",
    "lencoders = {}\n",
    "for col in oversampled.select_dtypes(include=['object']).columns:\n",
    "    print(col)\n",
    "    lencoders[col] = LabelEncoder()\n",
    "    oversampled[col] = lencoders[col].fit_transform(oversampled[col])"
   ]
  },
  {
   "cell_type": "code",
   "execution_count": null,
   "metadata": {
    "execution": {
     "iopub.execute_input": "2021-11-15T05:52:42.52981Z",
     "iopub.status.busy": "2021-11-15T05:52:42.529079Z",
     "iopub.status.idle": "2021-11-15T05:52:43.011225Z",
     "shell.execute_reply": "2021-11-15T05:52:43.010551Z",
     "shell.execute_reply.started": "2021-11-15T05:52:42.529772Z"
    }
   },
   "outputs": [],
   "source": [
    "categorical_features = [column_name for column_name in df.columns]\n",
    "x=df[categorical_features].isnull().sum()\n",
    "\n",
    "fig = plt.figure(figsize = (5,5))\n",
    "plt.barh(categorical_features,x)\n",
    "plt.ylabel(\"Features\")\n",
    "plt.xlabel(\"Number of NaN values\")\n",
    "plt.title(\"NaN Value Distribution across Features\")\n",
    "plt.show()"
   ]
  },
  {
   "cell_type": "code",
   "execution_count": null,
   "metadata": {
    "execution": {
     "iopub.execute_input": "2021-11-18T09:39:52.892952Z",
     "iopub.status.busy": "2021-11-18T09:39:52.892685Z",
     "iopub.status.idle": "2021-11-18T09:40:16.4543Z",
     "shell.execute_reply": "2021-11-18T09:40:16.453231Z",
     "shell.execute_reply.started": "2021-11-18T09:39:52.892925Z"
    }
   },
   "outputs": [],
   "source": [
    "## takes time to execute, doing imputation\n",
    "import warnings\n",
    "from sklearn.experimental import enable_iterative_imputer\n",
    "from sklearn.impute import IterativeImputer\n",
    "warnings.filterwarnings(\"ignore\")\n",
    "\n",
    "def removeOutliers(df):\n",
    "    Q1 = df.quantile(0.25)\n",
    "    Q3 = df.quantile(0.75)\n",
    "    IQR = Q3 - Q1\n",
    "\n",
    "    # Removing outliers from the dataset\n",
    "    df = df[~((df < (Q1 - 1.5 * IQR)) |(df > (Q3 + 1.5 * IQR))).any(axis=1)]\n",
    "\n",
    "def getCopy(df):\n",
    "    return df.copy(deep=True)\n",
    "    \n",
    "## imputation using MICE\n",
    "miceImputed = getCopy(oversampled)\n",
    "mice_imputer = IterativeImputer()\n",
    "\n",
    "## estimates misisng values in each col using all other cols \n",
    "## in a round robin manner\n",
    "miceImputed.iloc[:,:] = mice_imputer.fit_transform(oversampled)\n",
    "\n",
    "# Detecting outliers with IQR\n",
    "miceImputed = removeOutliers(miceImputed)"
   ]
  },
  {
   "cell_type": "code",
   "execution_count": null,
   "metadata": {
    "execution": {
     "iopub.execute_input": "2021-11-18T09:40:21.373963Z",
     "iopub.status.busy": "2021-11-18T09:40:21.373674Z",
     "iopub.status.idle": "2021-11-18T09:40:21.453738Z",
     "shell.execute_reply": "2021-11-18T09:40:21.452725Z",
     "shell.execute_reply.started": "2021-11-18T09:40:21.373933Z"
    }
   },
   "outputs": [],
   "source": [
    "## choosing best K features\n",
    "\n",
    "r_scaler = MinMaxScaler()\n",
    "r_scaler.fit(miceImputed)\n",
    "modified_data = pd.DataFrame(r_scaler.transform(miceImputed), index=miceImputed.index, columns=miceImputed.columns)\n",
    "\n",
    "# selecting best features\n",
    "x = modified_data.loc[:,modified_data.columns!='RainTomorrow']\n",
    "y = modified_data[['RainTomorrow']]\n",
    "selector = SelectKBest(k=11)\n",
    "selector.fit(x, y)\n",
    "print(x.columns[selector.get_support(indices=True)])\n",
    "\n",
    "## doing train test split\n",
    "features = miceImputed[x.columns[selector.get_support(indices=True)]]\n",
    "features.drop('RISK_MM', axis=1, inplace=True)\n",
    "target = miceImputed['RainTomorrow']\n",
    "\n",
    "# Split into test and train\n",
    "from sklearn.model_selection import train_test_split\n",
    "x_train, x_test, y_train, y_test = train_test_split(features, target, test_size=0.25, random_state=0)\n",
    "y_train = np.array(y_train)\n",
    "y_test = np.array(y_test)\n",
    "# Normalize Features\n",
    "from sklearn.preprocessing import StandardScaler\n",
    "scaler = StandardScaler()\n",
    "x_train = scaler.fit_transform(x_train)\n",
    "x_test = scaler.fit_transform(x_test)"
   ]
  },
  {
   "cell_type": "code",
   "execution_count": null,
   "metadata": {
    "execution": {
     "iopub.execute_input": "2021-11-15T05:53:26.313908Z",
     "iopub.status.busy": "2021-11-15T05:53:26.31364Z",
     "iopub.status.idle": "2021-11-15T05:53:28.324743Z",
     "shell.execute_reply": "2021-11-15T05:53:28.323148Z",
     "shell.execute_reply.started": "2021-11-15T05:53:26.313881Z"
    }
   },
   "outputs": [],
   "source": [
    "# Correlation Heatmap\n",
    "corr = miceImputed.corr()\n",
    "mask = np.triu(np.ones_like(corr, dtype=np.bool))\n",
    "f, ax = plt.subplots(figsize=(20, 20))\n",
    "cmap = sns.diverging_palette(250, 25, as_cmap=True)\n",
    "sns.heatmap(corr, mask=mask, cmap=cmap, vmax=None, center=0,square=True, annot=True, linewidths=.5, cbar_kws={\"shrink\": .9})"
   ]
  },
  {
   "cell_type": "markdown",
   "metadata": {},
   "source": [
    "## Logistic Regression"
   ]
  },
  {
   "cell_type": "code",
   "execution_count": null,
   "metadata": {
    "execution": {
     "iopub.execute_input": "2021-11-18T08:53:15.270671Z",
     "iopub.status.busy": "2021-11-18T08:53:15.270326Z",
     "iopub.status.idle": "2021-11-18T08:53:18.923354Z",
     "shell.execute_reply": "2021-11-18T08:53:18.922066Z",
     "shell.execute_reply.started": "2021-11-18T08:53:15.270641Z"
    }
   },
   "outputs": [],
   "source": [
    "from sklearn.linear_model import LogisticRegression\n",
    "\n",
    "grid = {\"C\":[1e-2,1e-1,1,10,100],\"penalty\":[\"l1\",\"l2\"]}\n",
    "clf = LogisticRegression()\n",
    "model = GridSearchCV(clf,grid)\n",
    "model.fit(x_train,y_train)\n",
    "model.best_estimator_, model.cv_results_"
   ]
  },
  {
   "cell_type": "code",
   "execution_count": null,
   "metadata": {
    "execution": {
     "iopub.execute_input": "2021-11-18T08:53:34.568749Z",
     "iopub.status.busy": "2021-11-18T08:53:34.568446Z",
     "iopub.status.idle": "2021-11-18T08:53:35.418152Z",
     "shell.execute_reply": "2021-11-18T08:53:35.417156Z",
     "shell.execute_reply.started": "2021-11-18T08:53:34.56872Z"
    }
   },
   "outputs": [],
   "source": [
    "from sklearn.linear_model import LogisticRegression\n",
    "\n",
    "clf = LogisticRegression(C=1)\n",
    "clf.fit(x_train,y_train)\n",
    "print(classification_report(clf.predict(x_train),y_train))\n",
    "plot_roc_curve(clf,x_train,y_train,name=\"train\")\n",
    "print(classification_report(clf.predict(x_test),y_test))\n",
    "plot_roc_curve(clf,x_test,y_test,name=\"test\")\n",
    "plt.show()"
   ]
  },
  {
   "cell_type": "markdown",
   "metadata": {},
   "source": [
    "## SGD Classifier"
   ]
  },
  {
   "cell_type": "code",
   "execution_count": null,
   "metadata": {
    "execution": {
     "iopub.execute_input": "2021-11-18T08:53:43.425774Z",
     "iopub.status.busy": "2021-11-18T08:53:43.425465Z",
     "iopub.status.idle": "2021-11-18T08:56:08.797926Z",
     "shell.execute_reply": "2021-11-18T08:56:08.796886Z",
     "shell.execute_reply.started": "2021-11-18T08:53:43.425744Z"
    }
   },
   "outputs": [],
   "source": [
    "from sklearn.linear_model import SGDClassifier\n",
    "\n",
    "grid = {\"alpha\":[1e-6,1e-5,1e-4,1e-3,1e-2,1e-1,1,10],\"loss\":[\"hinge\",\"log\",\"modified_huber\",\"squared_hinge\",\"perceptron\",\"squared_epsilon_insensitive\"],\"warm_start\":[True,False]}\n",
    "clf = SGDClassifier(n_jobs=-1)\n",
    "model = GridSearchCV(clf,grid)\n",
    "model.fit(x_train,y_train)\n",
    "model.best_estimator_, model.cv_results_"
   ]
  },
  {
   "cell_type": "code",
   "execution_count": null,
   "metadata": {
    "execution": {
     "iopub.execute_input": "2021-11-18T08:56:45.32472Z",
     "iopub.status.busy": "2021-11-18T08:56:45.324429Z",
     "iopub.status.idle": "2021-11-18T08:56:46.074028Z",
     "shell.execute_reply": "2021-11-18T08:56:46.073089Z",
     "shell.execute_reply.started": "2021-11-18T08:56:45.324691Z"
    }
   },
   "outputs": [],
   "source": [
    "from sklearn.linear_model import SGDClassifier\n",
    "\n",
    "\n",
    "clf = SGDClassifier(alpha=0.001, n_jobs=-1, loss=\"log\", warm_start=True)\n",
    "clf.fit(x_train,y_train)\n",
    "print(classification_report(clf.predict(x_train),y_train))\n",
    "plot_roc_curve(clf,x_train,y_train,name=\"train\")\n",
    "print(classification_report(clf.predict(x_test),y_test))\n",
    "plot_roc_curve(clf,x_test,y_test,name=\"test\")\n",
    "plt.show()"
   ]
  },
  {
   "cell_type": "markdown",
   "metadata": {},
   "source": [
    "## Naive Bayes"
   ]
  },
  {
   "cell_type": "code",
   "execution_count": null,
   "metadata": {
    "execution": {
     "iopub.execute_input": "2021-11-15T05:59:26.583399Z",
     "iopub.status.busy": "2021-11-15T05:59:26.583116Z",
     "iopub.status.idle": "2021-11-15T05:59:27.064941Z",
     "shell.execute_reply": "2021-11-15T05:59:27.064177Z",
     "shell.execute_reply.started": "2021-11-15T05:59:26.583367Z"
    }
   },
   "outputs": [],
   "source": [
    "from sklearn.naive_bayes import GaussianNB\n",
    "\n",
    "clf = GaussianNB()\n",
    "clf.fit(x_train,y_train)\n",
    "print(classification_report(clf.predict(x_train),y_train))\n",
    "plot_roc_curve(clf,x_train,y_train,name=\"train\")\n",
    "print(classification_report(clf.predict(x_test),y_test))\n",
    "plot_roc_curve(clf,x_test,y_test,name=\"test\")\n",
    "plt.show()"
   ]
  },
  {
   "cell_type": "markdown",
   "metadata": {},
   "source": [
    "## Decision Tree"
   ]
  },
  {
   "cell_type": "code",
   "execution_count": null,
   "metadata": {
    "execution": {
     "iopub.execute_input": "2021-11-18T08:56:51.796508Z",
     "iopub.status.busy": "2021-11-18T08:56:51.795701Z",
     "iopub.status.idle": "2021-11-18T08:56:59.147042Z",
     "shell.execute_reply": "2021-11-18T08:56:59.14612Z",
     "shell.execute_reply.started": "2021-11-18T08:56:51.796473Z"
    }
   },
   "outputs": [],
   "source": [
    "from sklearn.tree import DecisionTreeClassifier\n",
    "\n",
    "grid = {\"criterion\":[\"gini\",\"entropy\"],\"max_features\":[\"auto\",\"log2\"],\"max_depth\":[2,4,8,16,32,64]}\n",
    "clf = DecisionTreeClassifier()\n",
    "model = GridSearchCV(clf,grid)\n",
    "model.fit(x_train,y_train)\n",
    "model.best_estimator_, model.cv_results_"
   ]
  },
  {
   "cell_type": "code",
   "execution_count": null,
   "metadata": {
    "execution": {
     "iopub.execute_input": "2021-11-18T08:57:17.943112Z",
     "iopub.status.busy": "2021-11-18T08:57:17.942819Z",
     "iopub.status.idle": "2021-11-18T08:57:18.640025Z",
     "shell.execute_reply": "2021-11-18T08:57:18.63909Z",
     "shell.execute_reply.started": "2021-11-18T08:57:17.943085Z"
    }
   },
   "outputs": [],
   "source": [
    "from sklearn.tree import DecisionTreeClassifier\n",
    "clf = DecisionTreeClassifier(max_depth=8)\n",
    "clf.fit(x_train,y_train)\n",
    "print(classification_report(clf.predict(x_train),y_train))\n",
    "plot_roc_curve(clf,x_train,y_train,name=\"train\")\n",
    "print(classification_report(clf.predict(x_test),y_test))\n",
    "plot_roc_curve(clf,x_test,y_test,name=\"test\")\n",
    "plt.show()"
   ]
  },
  {
   "cell_type": "markdown",
   "metadata": {},
   "source": [
    "## Random Forest"
   ]
  },
  {
   "cell_type": "code",
   "execution_count": null,
   "metadata": {
    "execution": {
     "iopub.execute_input": "2021-11-18T08:57:26.134547Z",
     "iopub.status.busy": "2021-11-18T08:57:26.134145Z",
     "iopub.status.idle": "2021-11-18T08:58:17.781133Z",
     "shell.execute_reply": "2021-11-18T08:58:17.780075Z",
     "shell.execute_reply.started": "2021-11-18T08:57:26.134503Z"
    }
   },
   "outputs": [],
   "source": [
    "from sklearn.ensemble import RandomForestClassifier\n",
    "from sklearn.model_selection import GridSearchCV\n",
    "grid = {\"n_estimators\":[50,100,200]}\n",
    "clf = RandomForestClassifier(max_depth=8)\n",
    "model = GridSearchCV(clf,grid)\n",
    "model.fit(x_train,y_train)"
   ]
  },
  {
   "cell_type": "code",
   "execution_count": null,
   "metadata": {
    "execution": {
     "iopub.execute_input": "2021-11-18T09:39:34.636769Z",
     "iopub.status.busy": "2021-11-18T09:39:34.63634Z",
     "iopub.status.idle": "2021-11-18T09:39:34.799829Z",
     "shell.execute_reply": "2021-11-18T09:39:34.798203Z",
     "shell.execute_reply.started": "2021-11-18T09:39:34.636671Z"
    }
   },
   "outputs": [],
   "source": [
    "model.best_estimator_, model.cv_results_"
   ]
  },
  {
   "cell_type": "code",
   "execution_count": null,
   "metadata": {
    "execution": {
     "iopub.execute_input": "2021-11-18T09:00:24.060078Z",
     "iopub.status.busy": "2021-11-18T09:00:24.05977Z",
     "iopub.status.idle": "2021-11-18T09:00:25.888276Z",
     "shell.execute_reply": "2021-11-18T09:00:25.887152Z",
     "shell.execute_reply.started": "2021-11-18T09:00:24.060048Z"
    }
   },
   "outputs": [],
   "source": [
    "from sklearn.ensemble import RandomForestClassifier\n",
    "\n",
    "clf = RandomForestClassifier(n_estimators=50, max_depth=8)\n",
    "clf.fit(x_train,y_train)\n",
    "clf.score(x_test,y_test), clf.score(x_train,y_train)"
   ]
  },
  {
   "cell_type": "code",
   "execution_count": null,
   "metadata": {
    "execution": {
     "iopub.execute_input": "2021-11-18T09:00:29.882568Z",
     "iopub.status.busy": "2021-11-18T09:00:29.882224Z",
     "iopub.status.idle": "2021-11-18T09:00:30.882918Z",
     "shell.execute_reply": "2021-11-18T09:00:30.881913Z",
     "shell.execute_reply.started": "2021-11-18T09:00:29.882539Z"
    }
   },
   "outputs": [],
   "source": [
    "print(classification_report(clf.predict(x_train),y_train))\n",
    "plot_roc_curve(clf,x_train,y_train,name=\"train\")\n",
    "print(classification_report(clf.predict(x_test),y_test))\n",
    "plot_roc_curve(clf,x_test,y_test,name=\"test\")\n",
    "plt.show()"
   ]
  },
  {
   "cell_type": "code",
   "execution_count": null,
   "metadata": {
    "execution": {
     "iopub.execute_input": "2021-11-15T06:03:08.34913Z",
     "iopub.status.busy": "2021-11-15T06:03:08.348181Z",
     "iopub.status.idle": "2021-11-15T06:03:14.856963Z",
     "shell.execute_reply": "2021-11-15T06:03:14.856195Z",
     "shell.execute_reply.started": "2021-11-15T06:03:08.349091Z"
    }
   },
   "outputs": [],
   "source": [
    "from xgboost import XGBClassifier\n",
    "clf = XGBClassifier()\n",
    "clf.fit(x_train,y_train)\n",
    "print(classification_report(clf.predict(x_train),y_train))\n",
    "plot_roc_curve(clf,x_train,y_train,name=\"train\")\n",
    "print(classification_report(clf.predict(x_test),y_test))\n",
    "plot_roc_curve(clf,x_test,y_test,name=\"test\")\n",
    "plt.show()"
   ]
  }
 ],
 "metadata": {
  "kernelspec": {
   "display_name": "Python 3",
   "language": "python",
   "name": "python3"
  },
  "language_info": {
   "codemirror_mode": {
    "name": "ipython",
    "version": 3
   },
   "file_extension": ".py",
   "mimetype": "text/x-python",
   "name": "python",
   "nbconvert_exporter": "python",
   "pygments_lexer": "ipython3",
   "version": "3.8.10"
  }
 },
 "nbformat": 4,
 "nbformat_minor": 4
}
